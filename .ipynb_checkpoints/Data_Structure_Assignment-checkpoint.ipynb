{
 "cells": [
  {
   "cell_type": "raw",
   "id": "4371c0ae-1f72-4f6d-9903-fce4cd151566",
   "metadata": {},
   "source": [
    "# 1 Discuss string slicing and provide examples.\n",
    "  Ans.  String slicing in Python is a method used to extract a portion substring of a string\n",
    "        Syntax: string[start:stop:step]\n",
    "        Example:\n",
    "\n",
    "      a = \"My name is Ajay Jangra\"\n",
    "      a[1] #Output: y\n",
    "      a[4:8]  #Output : name\n",
    "      \n"
   ]
  },
  {
   "cell_type": "raw",
   "id": "b37f4cf0-98bf-409b-adcb-962558d96c29",
   "metadata": {},
   "source": [
    "# 2 Explain the key features of list in python.\n",
    "# Ans. List are ordered collection of item and we can store any data type in list.\n",
    "        Key Features of List are:\n",
    "          \n",
    "         -  Lists are ordered.\n",
    "         -  List are mutable.\n",
    "         -  List are dynamic.\n",
    "         -  List elements can be accessed by index.\n",
    "         -  Lists can be nested to arbitrary depth.\n",
    "\n",
    "        Mutable example...\n",
    "        \n",
    "        my_list1 = [1, 2, 3]\n",
    "        my_list1[1] = 5  # Modify the second item\n",
    "        print(my_list1)  # Output: [1, 5, 3]\n"
   ]
  },
  {
   "cell_type": "raw",
   "id": "907f035c-343b-46c0-aca0-dfd3562f5f26",
   "metadata": {},
   "source": [
    "3. Describe how to access, modify, and delete elements in a list with examples.\n",
    "Ans. We can access, modify and delete the elements in a lisy in python.\n",
    "\n",
    " Exmaple for access...\n",
    "   my_list = [ 1,2,3,4,5]\n",
    "   my_list[0] #Output: 1\n",
    "   my_list[2] #Output: 3\n",
    "   \n",
    " Exmaple for Modify... \n",
    "      my_list1 = [1, 2, 3]\n",
    "      my_list1[1] = 5  # Modify the second item\n",
    "      print(my_list1)  # Output: [1, 5, 3]\n",
    "\n",
    " Example for delete elemnet.....\n",
    "    my_list = [10, 20, 30, 20, 40]\n",
    "    my_list.remove(20)  # Removes the first occurrence of 20\n",
    "    print(my_list)  # Output: [10, 30, 20, 40]\n",
    "\n"
   ]
  },
  {
   "cell_type": "markdown",
   "id": "1bf1f3bc-149a-4c72-863d-ee0a52de50ef",
   "metadata": {},
   "source": [
    "4. Compare and contrast tuples and lists with examples.\n",
    "Ans. "
   ]
  }
 ],
 "metadata": {
  "kernelspec": {
   "display_name": "Python 3 (ipykernel)",
   "language": "python",
   "name": "python3"
  },
  "language_info": {
   "codemirror_mode": {
    "name": "ipython",
    "version": 3
   },
   "file_extension": ".py",
   "mimetype": "text/x-python",
   "name": "python",
   "nbconvert_exporter": "python",
   "pygments_lexer": "ipython3",
   "version": "3.10.8"
  }
 },
 "nbformat": 4,
 "nbformat_minor": 5
}
