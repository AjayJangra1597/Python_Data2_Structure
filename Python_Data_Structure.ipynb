{
 "cells": [
  {
   "cell_type": "raw",
   "id": "5c745529-0a86-4e79-8c50-b6170e28b3ed",
   "metadata": {},
   "source": [
    "# 1 Discuss string slicing and provide examples.\n",
    "  Ans.  String slicing in Python is a method used to extract a portion substring of a string\n",
    "        Syntax: string[start:stop:step]\n",
    "        Example:\n",
    "\n",
    "      a = \"My name is Ajay Jangra\"\n",
    "      a[1] #Output: y\n",
    "      a[4:8]  #Output : name"
   ]
  },
  {
   "cell_type": "raw",
   "id": "0e426d3f-8a07-4a16-bf34-44fe8d5627cd",
   "metadata": {},
   "source": [
    "# 2 Explain the key features of list in python.\n",
    "# Ans. List are ordered collection of item and we can store any data type in list.\n",
    "        Key Features of List are:\n",
    "          \n",
    "         -  Lists are ordered.\n",
    "         -  List are mutable.\n",
    "         -  List are dynamic.\n",
    "         -  List elements can be accessed by index.\n",
    "         -  Lists can be nested to arbitrary depth.\n",
    "\n",
    "        Mutable example...\n",
    "        \n",
    "        my_list1 = [1, 2, 3]\n",
    "        my_list1[1] = 5  # Modify the second item\n",
    "        print(my_list1)  # Output: [1, 5, 3]"
   ]
  },
  {
   "cell_type": "raw",
   "id": "e5c11e7a-6eca-49d8-acdb-68bad4e0ae43",
   "metadata": {},
   "source": [
    "3. Describe how to access, modify, and delete elements in a list with examples.\n",
    "Ans. We can access, modify and delete the elements in a lisy in python.\n",
    "\n",
    " Exmaple for access...\n",
    "   my_list = [ 1,2,3,4,5]\n",
    "   my_list[0] #Output: 1\n",
    "   my_list[2] #Output: 3\n",
    "   \n",
    " Exmaple for Modify... \n",
    "      my_list1 = [1, 2, 3]\n",
    "      my_list1[1] = 5  # Modify the second item\n",
    "      print(my_list1)  # Output: [1, 5, 3]\n",
    "\n",
    " Example for delete elemnet.....\n",
    "    my_list = [10, 20, 30, 20, 40]\n",
    "    my_list.remove(20)  # Removes the first occurrence of 20\n",
    "    print(my_list)  # Output: [10, 30, 20, 40]"
   ]
  },
  {
   "cell_type": "raw",
   "id": "ef68a9a3-7989-47ce-a854-7aa5681a8f4f",
   "metadata": {},
   "source": [
    "4. Compare and contrast tuples and lists with examples.\n",
    "Ans. List are mutable it's means we can modify the elements of list after creating the list.\n",
    "     Tuples are immutable it's means we can't modify their elements after creating a tuple.\n",
    "     \n",
    "     \n",
    "     # List (Mutable)\n",
    "     my_list = [1, 2, 3]\n",
    "     my_list[0] = 10  # Modifies the first element\n",
    "     print(my_list)   # Output: [10, 2, 3]\n",
    "\n",
    "     # Tuple (Immutable)\n",
    "     my_tuple = (1, 2, 3)\n",
    "     my_tuple[0] = 10  # This will raise a TypeError, as tuples can't be modified"
   ]
  },
  {
   "cell_type": "raw",
   "id": "6f01a7a3-1b5d-4bab-a9b4-42a87c6f029d",
   "metadata": {},
   "source": [
    "5 Describe the key features of sets and provide examples of their use.\n",
    "Ans. \n",
    " In Python, a set is an unordered collection of unique elements. Sets are useful for storing non-duplicate values\n",
    " and performing mathematical set operations.\n",
    "\n",
    " Key Features of sets:\n",
    "       Undordered\n",
    "       Unique \n",
    "       Unchangeable\n",
    "        \n",
    "     Examples of set:\n",
    "        \n",
    "    Unordered\n",
    "     my_set = {1, 2, 3, 4}\n",
    "     print(my_set)  # Output: {1, 2, 3, 4} (Order is arbitrary)\n",
    "    \n",
    "    Unique/Duplicate not allowed\n",
    "    my_set = {1, 2, 3, 3, 4}\n",
    "    print(my_set)  # Output: {1, 2, 3, 4} (Duplicates are discarded)\n",
    "      \n",
    "    Unchangeable\n",
    "    my_set = {1, \"Python\", (5, 6)}  # Valid set elements\n",
    "    # my_set = {1, [2, 3]}  # Invalid, as lists are mutable and cannot be added to sets"
   ]
  },
  {
   "cell_type": "raw",
   "id": "4ec84368-1725-47a5-bfe0-6ac678e35aa4",
   "metadata": {},
   "source": [
    "6  Discuss the use cases of tuples and sets in Python programming.\n",
    "Ans.\n",
    "   Use Cases of Tuples ...\n",
    "   \n",
    "   A tuple is an immutable, ordered collection of items. Due to their immutability and ability to store a fixed    set of elements, tuples are particularly useful in scenarios where data integrity is important and where        elements should not be changed.\n",
    "   \n",
    "   Use cased of sets ...\n",
    "  \n",
    "   A set is an unordered collection of unique items. Sets are useful in situations where you need to store non-    duplicate data and perform mathematical operations like union, intersection, and difference."
   ]
  },
  {
   "cell_type": "raw",
   "id": "09e0e0b4-41eb-4ad7-ab1e-ebdf1eabf3f9",
   "metadata": {},
   "source": [
    "7. Describe how to add, modify and delete items in a dictionary with examples.\n",
    "Ans.\n",
    "     A dictionary is a collection of key-value pairs where each key is unique. We can perform various operations     on a dictionary, such as adding, modifying, and deleting items.\n",
    " Adding...\n",
    " \n",
    "     # Initial dictionary\n",
    "     student = {\"name\": \"John\", \"age\": 20}\n",
    "\n",
    "     # Adding a new key-value pair\n",
    "     student[\"grade\"] = \"A\"\n",
    "\n",
    "     print(student)\n",
    "     # Output: {'name': 'John', 'age': 20, 'grade': 'A'}\n",
    " \n",
    " Modifying...\n",
    " \n",
    " \n",
    "      # Initial dictionary\n",
    "      student = {\"name\": \"John\", \"age\": 20, \"grade\": \"A\"}\n",
    "\n",
    "      # Modifying an existing key-value pair\n",
    "      student[\"age\"] = 21\n",
    "      student[\"grade\"] = \"A+\"\n",
    "\n",
    "      print(student)\n",
    "      # Output: {'name': 'John', 'age': 21, 'grade': 'A+'}\n",
    "      \n",
    "   Deleting...\n",
    "   \n",
    "     # Initial dictionary\n",
    "     student = {\"name\": \"John\", \"age\": 21, \"grade\": \"A+\", \"school\": \"XYZ High School\"}\n",
    "\n",
    "     # Removing an item with a specific key\n",
    "     del student[\"school\"]\n",
    "\n",
    "     print(student)\n",
    "     # Output: {'name': 'John', 'age': 21, 'grade': 'A+'}"
   ]
  },
  {
   "cell_type": "raw",
   "id": "d2569d16-234a-4b20-bc2c-0b6e002cf01c",
   "metadata": {},
   "source": [
    "8. Discuss the importance of dictionary keys being immutable and provide examples.\n",
    "Ans.\n",
    "    Dictionary keys must be immutable, meaning that the keys cannot be changed after they are created. This is \n",
    "    because dictionary keys rely on their hash value to enable quick lookups and ensure data integrity. If keys\n",
    "    were mutable, their hash value could change, leading to unpredictable behavior and inconsistency in \n",
    "    accessing or storing values.\n",
    "    \n",
    "     # Valid dictionary keys\n",
    "     my_dict = {\n",
    "         1: \"Integer key\",\n",
    "         \"name\": \"String key\",\n",
    "         (1, 2): \"Tuple key\"\n",
    "     }\n",
    "\n",
    "     print(my_dict[1])        # Output: Integer key\n",
    "     print(my_dict[\"name\"])    # Output: String key\n",
    "     print(my_dict[(1, 2)])    # Output: Tuple key"
   ]
  }
 ],
 "metadata": {
  "kernelspec": {
   "display_name": "Python 3 (ipykernel)",
   "language": "python",
   "name": "python3"
  },
  "language_info": {
   "codemirror_mode": {
    "name": "ipython",
    "version": 3
   },
   "file_extension": ".py",
   "mimetype": "text/x-python",
   "name": "python",
   "nbconvert_exporter": "python",
   "pygments_lexer": "ipython3",
   "version": "3.10.8"
  }
 },
 "nbformat": 4,
 "nbformat_minor": 5
}
